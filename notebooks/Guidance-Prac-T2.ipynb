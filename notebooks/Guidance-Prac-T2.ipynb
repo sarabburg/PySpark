{
 "cells": [
  {
   "cell_type": "markdown",
   "metadata": {},
   "source": [
    "# Práctica Sistemas Distribuidos II"
   ]
  },
  {
   "cell_type": "markdown",
   "metadata": {},
   "source": [
    "## 1. Introducción"
   ]
  },
  {
   "cell_type": "markdown",
   "metadata": {},
   "source": [
    "El objetivo de la práctica es el procesamiento y análisis básico de datos estructurados con PySpark. En particular, usaremos la API de Spark SQL para llevar a cabo estas labores.\n",
    "\n",
    "### 1.1 Dataset\n",
    "\n",
    "El conjunto de datos para la práctica es AirBnB listings in major US cities, que se puede descargar directamente de Kaggle Datasets: https://www.kaggle.com/rudymizrahi/airbnb-listings-in-major-us-cities-deloitte-ml\n",
    "El objetivo de la competición en la que se publicó este dataset era predecir el precio de los anuncios publicados en AirBnB, en ciudades de gran tamaño de EE.UU. Existen dos archivos en el dataset:\n",
    "- train.csv:Datos de entrenamiento para un algoritmo de predicción de precios.\n",
    "- test.csv:Datos de testing para evaluar objetivamente el rendimiento del algoritmo.\n",
    "\n",
    "Se pueden observar los campos que poseen cada fila en la dirección url del dataset.\n"
   ]
  },
  {
   "cell_type": "markdown",
   "metadata": {},
   "source": [
    "## 2 Preparación inicial\n",
    "> Carga los datos del archivo train.csv en Spark, utilizando la función spark.read.csv(...) que se ha visto durante el curso. Debes escoger los argumentos apropiados para leer los datos sin errores y escogiendo el tipo de dato más apropiado para cada variable."
   ]
  },
  {
   "cell_type": "markdown",
   "metadata": {},
   "source": [
    "### 2.1 Imports"
   ]
  },
  {
   "cell_type": "code",
   "execution_count": 1,
   "metadata": {},
   "outputs": [],
   "source": [
    "import pandas as pd\n",
    "import numpy as np\n",
    "from tqdm import tqdm\n",
    "from pyspark.sql.types import *\n",
    "from pyspark.sql import SQLContext\n",
    "import os\n",
    "import pyspark\n",
    "from pyspark.sql import SparkSession\n",
    "from pyspark.sql import Row\n",
    "from datetime import datetime\n",
    "from pyspark.sql.types import *\n",
    "from pyspark.sql.functions import *\n",
    "from pandas_profiling import ProfileReport\n",
    "from pyspark.sql import functions as F\n",
    "from pyspark.sql.window import Window"
   ]
  },
  {
   "cell_type": "markdown",
   "metadata": {},
   "source": [
    "### 2.2 Configuración SparkSession"
   ]
  },
  {
   "cell_type": "markdown",
   "metadata": {},
   "source": [
    "En primer lugar, se especifica la ruta de la versión de java necesaria."
   ]
  },
  {
   "cell_type": "code",
   "execution_count": 2,
   "metadata": {},
   "outputs": [
    {
     "data": {
      "text/plain": [
       "'C:/Program Files/Java/jdk1.8.0_281'"
      ]
     },
     "execution_count": 2,
     "metadata": {},
     "output_type": "execute_result"
    }
   ],
   "source": [
    "os.environ[\"JAVA_HOME\"] = \"C:/Program Files/Java/jdk1.8.0_281\"\n",
    "os.environ[\"JAVA_HOME\"]"
   ]
  },
  {
   "cell_type": "markdown",
   "metadata": {},
   "source": [
    "En segundo lugar, se levanta la sesión de spark y se comprueba que los settings han sido correctamente configurados."
   ]
  },
  {
   "cell_type": "code",
   "execution_count": 3,
   "metadata": {},
   "outputs": [
    {
     "data": {
      "text/html": [
       "\n",
       "            <div>\n",
       "                <p><b>SparkSession - in-memory</b></p>\n",
       "                \n",
       "        <div>\n",
       "            <p><b>SparkContext</b></p>\n",
       "\n",
       "            <p><a href=\"http://LAPTOP-BQDF65G9.home:4040\">Spark UI</a></p>\n",
       "\n",
       "            <dl>\n",
       "              <dt>Version</dt>\n",
       "                <dd><code>v2.3.2</code></dd>\n",
       "              <dt>Master</dt>\n",
       "                <dd><code>local[*]</code></dd>\n",
       "              <dt>AppName</dt>\n",
       "                <dd><code>Analysis AirBnB</code></dd>\n",
       "            </dl>\n",
       "        </div>\n",
       "        \n",
       "            </div>\n",
       "        "
      ],
      "text/plain": [
       "<pyspark.sql.session.SparkSession at 0x210ac322f08>"
      ]
     },
     "execution_count": 3,
     "metadata": {},
     "output_type": "execute_result"
    }
   ],
   "source": [
    "spark = (SparkSession.builder\n",
    "    .master(\"local[*]\")\n",
    "    .config(\"spark.driver.cores\", 1)\n",
    "    .appName(\"Analysis AirBnB\")\n",
    "    .getOrCreate() )\n",
    "sc = spark.sparkContext\n",
    "spark"
   ]
  },
  {
   "cell_type": "markdown",
   "metadata": {},
   "source": [
    "### 2.3. Lectura de los datos"
   ]
  },
  {
   "cell_type": "markdown",
   "metadata": {},
   "source": [
    "Tras una primera visualización de los datos se configura el structure type correspondiente para la lectura, por parte de spark del fichero train.csv"
   ]
  },
  {
   "cell_type": "code",
   "execution_count": 4,
   "metadata": {},
   "outputs": [],
   "source": [
    "creditsSchema = StructType([StructField(\"id\", DoubleType(), True), \n",
    "                           StructField(\"log_price\", DoubleType(), True),\n",
    "                           StructField(\"property_type\", StringType(), True),\n",
    "                           StructField(\"room_type\", StringType(), True),\n",
    "                           StructField(\"amenities\", StringType(), True),\n",
    "                           StructField(\"accommodates\", IntegerType(), True),\n",
    "                           StructField(\"bathrooms\", FloatType(), True),\n",
    "                           StructField(\"bed_type\", StringType(), True),\n",
    "                           StructField(\"cancellation_policy\", StringType(), True),\n",
    "                           StructField(\"cleaning_fee\", BooleanType(), True),\n",
    "                           StructField(\"city\", StringType(), True),\n",
    "                           StructField(\"description\", StringType(), True),\n",
    "                           StructField(\"first_review\", DateType(), True),\n",
    "                           StructField(\"host_has_profile_pic\", StringType(), True),\n",
    "                           StructField(\"host_identity_verified\", StringType(), True),\n",
    "                           StructField(\"host_response_rate\", StringType(), True),\n",
    "                           StructField(\"host_since\", DateType(), True),\n",
    "                           StructField(\"instant_bookable\", StringType(), True),\n",
    "                           StructField(\"last_review\", DateType(), True),         \n",
    "                           StructField(\"latitude\", DoubleType(), True),         \n",
    "                           StructField(\"longitude\", DoubleType(), True),       \n",
    "                           StructField(\"name\", StringType(), True),\n",
    "                           StructField(\"neighbourhood\", StringType(), True),         \n",
    "                           StructField(\"number_of_reviews\", IntegerType(), True),      \n",
    "                           StructField(\"review_scores_rating\", DoubleType(), True),         \n",
    "                           StructField(\"thumbnail_url\", StringType(), True),                             \n",
    "                           StructField(\"zipcode\", IntegerType(), True),         \n",
    "                           StructField(\"bedrooms\", FloatType(), True),         \n",
    "                           StructField(\"beds\", FloatType(), True)\n",
    "                           ])"
   ]
  },
  {
   "cell_type": "code",
   "execution_count": 5,
   "metadata": {},
   "outputs": [],
   "source": [
    "df_spark = (spark.read.option(\"header\", \"true\")\n",
    "#           .option(\"dateFormat\", \"yyyy-MM-dd\") // Default\n",
    "           .option(\"quote\", \"\\\"\")  \n",
    "           .option(\"escape\", \"\\\"\") \n",
    "           .csv(\"../data/train.csv\", schema=creditsSchema)\n",
    "          )"
   ]
  },
  {
   "cell_type": "markdown",
   "metadata": {},
   "source": [
    "Se va a realizar una observación de las cinco primeras columnas para los datos importados para comprobar que han sido correctamente leidos por parte de spark."
   ]
  },
  {
   "cell_type": "code",
   "execution_count": 6,
   "metadata": {},
   "outputs": [
    {
     "name": "stdout",
     "output_type": "stream",
     "text": [
      "+-----------+------------------+-------------+---------------+--------------------+------------+---------+--------+\n",
      "|         id|         log_price|property_type|      room_type|           amenities|accommodates|bathrooms|bed_type|\n",
      "+-----------+------------------+-------------+---------------+--------------------+------------+---------+--------+\n",
      "|  6901257.0| 5.010635294096256|    Apartment|Entire home/apt|{\"Wireless Intern...|           3|      1.0|Real Bed|\n",
      "|  6304928.0|5.1298987149230735|    Apartment|Entire home/apt|{\"Wireless Intern...|           7|      1.0|Real Bed|\n",
      "|  7919400.0| 4.976733742420574|    Apartment|Entire home/apt|{TV,\"Cable TV\",\"W...|           5|      1.0|Real Bed|\n",
      "|1.3418779E7| 6.620073206530356|        House|Entire home/apt|{TV,\"Cable TV\",In...|           4|      1.0|Real Bed|\n",
      "|  3808709.0|  4.74493212836325|    Apartment|Entire home/apt|{TV,Internet,\"Wir...|           2|      1.0|Real Bed|\n",
      "+-----------+------------------+-------------+---------------+--------------------+------------+---------+--------+\n",
      "only showing top 5 rows\n",
      "\n"
     ]
    }
   ],
   "source": [
    "df_spark.select('id','log_price','property_type','room_type','amenities','accommodates','bathrooms','bed_type').show(5)"
   ]
  },
  {
   "cell_type": "code",
   "execution_count": 7,
   "metadata": {},
   "outputs": [
    {
     "name": "stdout",
     "output_type": "stream",
     "text": [
      "+-------------------+------------+----+--------------------+------------+--------------------+----------------------+\n",
      "|cancellation_policy|cleaning_fee|city|         description|first_review|host_has_profile_pic|host_identity_verified|\n",
      "+-------------------+------------+----+--------------------+------------+--------------------+----------------------+\n",
      "|             strict|        true| NYC|Beautiful, sunlit...|  2016-06-18|                   t|                     t|\n",
      "|             strict|        true| NYC|Enjoy travelling ...|  2017-08-05|                   t|                     f|\n",
      "|           moderate|        true| NYC|The Oasis comes c...|  2017-04-30|                   t|                     t|\n",
      "|           flexible|        true|  SF|This light-filled...|        null|                   t|                     t|\n",
      "|           moderate|        true|  DC|Cool, cozy, and c...|  2015-05-12|                   t|                     t|\n",
      "+-------------------+------------+----+--------------------+------------+--------------------+----------------------+\n",
      "only showing top 5 rows\n",
      "\n"
     ]
    }
   ],
   "source": [
    "df_spark.select('cancellation_policy','cleaning_fee','city','description','first_review','host_has_profile_pic','host_identity_verified').show(5)"
   ]
  },
  {
   "cell_type": "code",
   "execution_count": 8,
   "metadata": {},
   "outputs": [
    {
     "name": "stdout",
     "output_type": "stream",
     "text": [
      "+------------------+----------+----------------+-----------+------------------+-------------------+--------------------+\n",
      "|host_response_rate|host_since|instant_bookable|last_review|          latitude|          longitude|                name|\n",
      "+------------------+----------+----------------+-----------+------------------+-------------------+--------------------+\n",
      "|              null|2012-03-26|               f| 2016-07-18|40.696523629970756| -73.99161684624262|Beautiful brownst...|\n",
      "|              100%|2017-06-19|               t| 2017-09-23|40.766115415949685| -73.98903992265213|Superb 3BR Apt Lo...|\n",
      "|              100%|2016-10-25|               t| 2017-09-14| 40.80810998936211| -73.94375584395794|    The Garden Oasis|\n",
      "|              null|2015-04-19|               f|       null|37.772004482560774|-122.43161868239788|Beautiful Flat in...|\n",
      "|              100%|2015-03-01|               t| 2017-01-22|38.925626916626506|  -77.0345955156553|Great studio in m...|\n",
      "+------------------+----------+----------------+-----------+------------------+-------------------+--------------------+\n",
      "only showing top 5 rows\n",
      "\n"
     ]
    }
   ],
   "source": [
    "df_spark.select('host_response_rate','host_since','instant_bookable','last_review','latitude','longitude','name').show(5)"
   ]
  },
  {
   "cell_type": "code",
   "execution_count": 9,
   "metadata": {},
   "outputs": [
    {
     "name": "stdout",
     "output_type": "stream",
     "text": [
      "+----------------+-----------------+--------------------+--------------------+-------+--------+\n",
      "|   neighbourhood|number_of_reviews|review_scores_rating|       thumbnail_url|zipcode|bedrooms|\n",
      "+----------------+-----------------+--------------------+--------------------+-------+--------+\n",
      "|Brooklyn Heights|                2|               100.0|https://a0.muscac...|  11201|     1.0|\n",
      "|  Hell's Kitchen|                6|                93.0|https://a0.muscac...|  10019|     3.0|\n",
      "|          Harlem|               10|                92.0|https://a0.muscac...|  10027|     1.0|\n",
      "|            null|             null|                null|                null|   null|    null|\n",
      "|Columbia Heights|                4|                40.0|                null|  20009|     0.0|\n",
      "+----------------+-----------------+--------------------+--------------------+-------+--------+\n",
      "only showing top 5 rows\n",
      "\n"
     ]
    }
   ],
   "source": [
    "df_spark.select('neighbourhood','number_of_reviews','review_scores_rating','thumbnail_url','zipcode','bedrooms').show(5)"
   ]
  },
  {
   "cell_type": "markdown",
   "metadata": {},
   "source": [
    "A continuación se ha realizado un tratamiento de la variable *amenities*. Para ello se han obtenido los valores únicos que contenia dicha variable y se han incluido como columnas, marcando con *true* o *false* si la observación contenia la variable o no."
   ]
  },
  {
   "cell_type": "code",
   "execution_count": 10,
   "metadata": {},
   "outputs": [],
   "source": [
    "df=pd.read_csv(\"../data/train.csv\")"
   ]
  },
  {
   "cell_type": "code",
   "execution_count": 11,
   "metadata": {},
   "outputs": [
    {
     "name": "stderr",
     "output_type": "stream",
     "text": [
      "131it [00:00, 2425.39it/s]\n"
     ]
    }
   ],
   "source": [
    "df['amenities'] = df['amenities'].map(lambda x: \"&\".join([x.replace(\"}\", \"\").replace(\"{\", \"\").replace('\"', \"\") for x in x.split(\",\")]))\n",
    "posible_values = np.unique(np.concatenate(df['amenities'].map(lambda x: x.split(\"&\")).values))\n",
    "posible_values=np.delete(posible_values,0)\n",
    "amenity_arr = np.array([df['amenities'].map(lambda x: val in x) for val in posible_values])\n",
    "for i,am in tqdm(enumerate(posible_values)):\n",
    "    df[am]=amenity_arr[i]"
   ]
  },
  {
   "cell_type": "code",
   "execution_count": 12,
   "metadata": {},
   "outputs": [],
   "source": [
    "def equivalent_type(f):\n",
    "    if f == 'datetime64[ns]': return TimestampType()\n",
    "    elif f == 'int64': return LongType()\n",
    "    elif f == 'int32': return IntegerType()\n",
    "    elif f == 'float64': return FloatType()\n",
    "    elif f=='object': return StringType()\n",
    "    else: return StringType()\n",
    "\n",
    "def define_structure(string, format_type):\n",
    "    try: typo = equivalent_type(format_type)\n",
    "    except: typo = StringType()\n",
    "    return StructField(string, typo)\n",
    "\n",
    "def pandas_to_spark(pandas_df):\n",
    "    columns = list(pandas_df.columns)\n",
    "    types = list(pandas_df.dtypes)\n",
    "    struct_list = []\n",
    "    for column, typo in zip(columns, types): \n",
    "      struct_list.append(define_structure(column, typo))\n",
    "    p_schema = StructType(struct_list)\n",
    "    return sqlCtx.createDataFrame(pandas_df, p_schema)"
   ]
  },
  {
   "cell_type": "code",
   "execution_count": 13,
   "metadata": {},
   "outputs": [],
   "source": [
    "sqlCtx = SQLContext(sc)\n",
    "spark_df = pandas_to_spark(df)"
   ]
  },
  {
   "cell_type": "markdown",
   "metadata": {},
   "source": [
    "Se muestra un esquema para la comprobación del correcto funcionamiento de las funciones anteriores."
   ]
  },
  {
   "cell_type": "code",
   "execution_count": 14,
   "metadata": {},
   "outputs": [
    {
     "name": "stdout",
     "output_type": "stream",
     "text": [
      "root\n",
      " |-- id: long (nullable = true)\n",
      " |-- log_price: float (nullable = true)\n",
      " |-- property_type: string (nullable = true)\n",
      " |-- room_type: string (nullable = true)\n",
      " |-- amenities: string (nullable = true)\n",
      " |-- accommodates: long (nullable = true)\n",
      " |-- bathrooms: float (nullable = true)\n",
      " |-- bed_type: string (nullable = true)\n",
      " |-- cancellation_policy: string (nullable = true)\n",
      " |-- cleaning_fee: string (nullable = true)\n",
      " |-- city: string (nullable = true)\n",
      " |-- description: string (nullable = true)\n",
      " |-- first_review: string (nullable = true)\n",
      " |-- host_has_profile_pic: string (nullable = true)\n",
      " |-- host_identity_verified: string (nullable = true)\n",
      " |-- host_response_rate: string (nullable = true)\n",
      " |-- host_since: string (nullable = true)\n",
      " |-- instant_bookable: string (nullable = true)\n",
      " |-- last_review: string (nullable = true)\n",
      " |-- latitude: float (nullable = true)\n",
      " |-- longitude: float (nullable = true)\n",
      " |-- name: string (nullable = true)\n",
      " |-- neighbourhood: string (nullable = true)\n",
      " |-- number_of_reviews: long (nullable = true)\n",
      " |-- review_scores_rating: float (nullable = true)\n",
      " |-- thumbnail_url: string (nullable = true)\n",
      " |-- zipcode: string (nullable = true)\n",
      " |-- bedrooms: float (nullable = true)\n",
      " |-- beds: float (nullable = true)\n",
      " |--  smooth pathway to front door: string (nullable = true)\n",
      " |--  toilet: string (nullable = true)\n",
      " |-- 24-hour check-in: string (nullable = true)\n",
      " |-- Accessible-height bed: string (nullable = true)\n",
      " |-- Accessible-height toilet: string (nullable = true)\n",
      " |-- Air conditioning: string (nullable = true)\n",
      " |-- Air purifier: string (nullable = true)\n",
      " |-- BBQ grill: string (nullable = true)\n",
      " |-- Baby bath: string (nullable = true)\n",
      " |-- Baby monitor: string (nullable = true)\n",
      " |-- Babysitter recommendations: string (nullable = true)\n",
      " |-- Bath towel: string (nullable = true)\n",
      " |-- Bathtub: string (nullable = true)\n",
      " |-- Bathtub with shower chair: string (nullable = true)\n",
      " |-- Beach essentials: string (nullable = true)\n",
      " |-- Beachfront: string (nullable = true)\n",
      " |-- Bed linens: string (nullable = true)\n",
      " |-- Body soap: string (nullable = true)\n",
      " |-- Breakfast: string (nullable = true)\n",
      " |-- Buzzer/wireless intercom: string (nullable = true)\n",
      " |-- Cable TV: string (nullable = true)\n",
      " |-- Carbon monoxide detector: string (nullable = true)\n",
      " |-- Cat(s): string (nullable = true)\n",
      " |-- Changing table: string (nullable = true)\n",
      " |-- Children’s books and toys: string (nullable = true)\n",
      " |-- Children’s dinnerware: string (nullable = true)\n",
      " |-- Cleaning before checkout: string (nullable = true)\n",
      " |-- Coffee maker: string (nullable = true)\n",
      " |-- Cooking basics: string (nullable = true)\n",
      " |-- Crib: string (nullable = true)\n",
      " |-- Disabled parking spot: string (nullable = true)\n",
      " |-- Dishes and silverware: string (nullable = true)\n",
      " |-- Dishwasher: string (nullable = true)\n",
      " |-- Dog(s): string (nullable = true)\n",
      " |-- Doorman: string (nullable = true)\n",
      " |-- Doorman Entry: string (nullable = true)\n",
      " |-- Dryer: string (nullable = true)\n",
      " |-- EV charger: string (nullable = true)\n",
      " |-- Elevator: string (nullable = true)\n",
      " |-- Elevator in building: string (nullable = true)\n",
      " |-- Essentials: string (nullable = true)\n",
      " |-- Ethernet connection: string (nullable = true)\n",
      " |-- Extra pillows and blankets: string (nullable = true)\n",
      " |-- Family/kid friendly: string (nullable = true)\n",
      " |-- Fire extinguisher: string (nullable = true)\n",
      " |-- Fireplace guards: string (nullable = true)\n",
      " |-- Firm matress: string (nullable = true)\n",
      " |-- Firm mattress: string (nullable = true)\n",
      " |-- First aid kit: string (nullable = true)\n",
      " |-- Fixed grab bars for shower : string (nullable = true)\n",
      " |-- Flat: string (nullable = true)\n",
      " |-- Flat smooth pathway to front door: string (nullable = true)\n",
      " |-- Free parking on premises: string (nullable = true)\n",
      " |-- Free parking on street: string (nullable = true)\n",
      " |-- Game console: string (nullable = true)\n",
      " |-- Garden or backyard: string (nullable = true)\n",
      " |-- Grab-rails for shower and toilet: string (nullable = true)\n",
      " |-- Ground floor access: string (nullable = true)\n",
      " |-- Gym: string (nullable = true)\n",
      " |-- Hair dryer: string (nullable = true)\n",
      " |-- Hand or paper towel: string (nullable = true)\n",
      " |-- Hand soap: string (nullable = true)\n",
      " |-- Handheld shower head: string (nullable = true)\n",
      " |-- Hangers: string (nullable = true)\n",
      " |-- Heating: string (nullable = true)\n",
      " |-- High chair: string (nullable = true)\n",
      " |-- Host greets you: string (nullable = true)\n",
      " |-- Hot tub: string (nullable = true)\n",
      " |-- Hot water: string (nullable = true)\n",
      " |-- Hot water kettle: string (nullable = true)\n",
      " |-- Indoor fireplace: string (nullable = true)\n",
      " |-- Internet: string (nullable = true)\n",
      " |-- Iron: string (nullable = true)\n",
      " |-- Keypad: string (nullable = true)\n",
      " |-- Kitchen: string (nullable = true)\n",
      " |-- Lake access: string (nullable = true)\n",
      " |-- Laptop friendly workspace: string (nullable = true)\n",
      " |-- Lock on bedroom door: string (nullable = true)\n",
      " |-- Lockbox: string (nullable = true)\n",
      " |-- Long term stays allowed: string (nullable = true)\n",
      " |-- Luggage dropoff allowed: string (nullable = true)\n",
      " |-- Microwave: string (nullable = true)\n",
      " |-- Other: string (nullable = true)\n",
      " |-- Other pet(s): string (nullable = true)\n",
      " |-- Outlet covers: string (nullable = true)\n",
      " |-- Oven: string (nullable = true)\n",
      " |-- Pack ’n Play/travel crib: string (nullable = true)\n",
      " |-- Paid parking off premises: string (nullable = true)\n",
      " |-- Path to entrance lit at night: string (nullable = true)\n",
      " |-- Patio or balcony: string (nullable = true)\n",
      " |-- Pets allowed: string (nullable = true)\n",
      " |-- Pets live on this property: string (nullable = true)\n",
      " |-- Pocket wifi: string (nullable = true)\n",
      " |-- Pool: string (nullable = true)\n",
      " |-- Private bathroom: string (nullable = true)\n",
      " |-- Private entrance: string (nullable = true)\n",
      " |-- Private living room: string (nullable = true)\n",
      " |-- Refrigerator: string (nullable = true)\n",
      " |-- Roll-in shower with chair: string (nullable = true)\n",
      " |-- Room-darkening shades: string (nullable = true)\n",
      " |-- Safety card: string (nullable = true)\n",
      " |-- Self Check-In: string (nullable = true)\n",
      " |-- Shampoo: string (nullable = true)\n",
      " |-- Single level home: string (nullable = true)\n",
      " |-- Ski in/Ski out: string (nullable = true)\n",
      " |-- Smart lock: string (nullable = true)\n",
      " |-- Smartlock: string (nullable = true)\n",
      " |-- Smoke detector: string (nullable = true)\n",
      " |-- Smoking allowed: string (nullable = true)\n",
      " |-- Stair gates: string (nullable = true)\n",
      " |-- Step-free access: string (nullable = true)\n",
      " |-- Stove: string (nullable = true)\n",
      " |-- Suitable for events: string (nullable = true)\n",
      " |-- TV: string (nullable = true)\n",
      " |-- Table corner guards: string (nullable = true)\n",
      " |-- Toilet paper: string (nullable = true)\n",
      " |-- Washer: string (nullable = true)\n",
      " |-- Washer / Dryer: string (nullable = true)\n",
      " |-- Waterfront: string (nullable = true)\n",
      " |-- Well-lit path to entrance: string (nullable = true)\n",
      " |-- Wheelchair accessible: string (nullable = true)\n",
      " |-- Wide clearance to bed: string (nullable = true)\n",
      " |-- Wide clearance to shower : string (nullable = true)\n",
      " |-- Wide clearance to shower and toilet: string (nullable = true)\n",
      " |-- Wide doorway: string (nullable = true)\n",
      " |-- Wide entryway: string (nullable = true)\n",
      " |-- Wide hallway clearance: string (nullable = true)\n",
      " |-- Window guards: string (nullable = true)\n",
      " |-- Wireless Internet: string (nullable = true)\n",
      " |-- translation missing: en.hosting_amenity_49: string (nullable = true)\n",
      " |-- translation missing: en.hosting_amenity_50: string (nullable = true)\n",
      "\n"
     ]
    }
   ],
   "source": [
    "spark_df.printSchema()"
   ]
  },
  {
   "cell_type": "markdown",
   "metadata": {},
   "source": [
    "## 3. Análisis Exploratorio de Datos (EDA)"
   ]
  },
  {
   "cell_type": "markdown",
   "metadata": {},
   "source": [
    "> Toma una muestra aleatoria de 1.000 filas del DataFrame. Utilizando seaborn , Altair, Plotly o directamente con matplotlib, visualiza varios gráficos en los que se muestre las distribuciones de valores de las variables cuantitativas y cualitativas del dataset. Presta especial atención a los valores faltantes que puedan encontrarse en algunas columnas de este archivo de datos."
   ]
  },
  {
   "cell_type": "markdown",
   "metadata": {},
   "source": [
    "Se ha seleccionado aleatoriamente una muestra de 1000 observaciones y se ha empleado la funcion ProfileReport para la obtención de graficos y estadisticos importantes para cada variable."
   ]
  },
  {
   "cell_type": "code",
   "execution_count": null,
   "metadata": {},
   "outputs": [],
   "source": [
    "sample=df.sample(n=1000,random_state=1)\n",
    "profile = ProfileReport(sample, title='AirBnB Pandas Profiling Report')\n",
    "profile"
   ]
  },
  {
   "cell_type": "code",
   "execution_count": null,
   "metadata": {},
   "outputs": [],
   "source": [
    "spark_df.select('last_review').show()"
   ]
  },
  {
   "cell_type": "markdown",
   "metadata": {},
   "source": [
    "**Ejercicio 1**\n",
    ">Identifica las 10 entradas con mayor precio en el dataset train.csv junto con la ciudad en la que está ubicada cada una de ellas.\n",
    "\n",
    ">¿Cuántas entradas de este dataset crees que se pueden considerar extremadamente caras (datos atípicos con valores muy altos)? Para razonar tu respuesta, puedes representar un histograma o un diagrama de densidad de probabilidad de los precios del dataset."
   ]
  },
  {
   "cell_type": "markdown",
   "metadata": {},
   "source": [
    "Para la realización de la query se ha ordenado de forma descendente por precio de logaritmo y se ha decidido mostrar el logaritmo del precio y la ciudad. Se han seleccionado las diez primeras observaciones."
   ]
  },
  {
   "cell_type": "code",
   "execution_count": 15,
   "metadata": {},
   "outputs": [
    {
     "name": "stdout",
     "output_type": "stream",
     "text": [
      "+---------+----+\n",
      "|log_price|city|\n",
      "+---------+----+\n",
      "|7.6004024| NYC|\n",
      "|7.6004024|  DC|\n",
      "|7.6004024| NYC|\n",
      "|7.6004024|  DC|\n",
      "|7.6004024|  LA|\n",
      "| 7.598399|  LA|\n",
      "| 7.598399|  LA|\n",
      "| 7.598399|  DC|\n",
      "| 7.598399|  SF|\n",
      "| 7.598399|  LA|\n",
      "+---------+----+\n",
      "only showing top 10 rows\n",
      "\n"
     ]
    }
   ],
   "source": [
    " spark_df.sort(\"log_price\", ascending=False).select('log_price','city').show(10)"
   ]
  },
  {
   "cell_type": "markdown",
   "metadata": {},
   "source": [
    "De los resultados obtenidos se aprecia que las casas más caras se encuentran en *NYC*, *LA*, *DC* y *SF*."
   ]
  },
  {
   "cell_type": "markdown",
   "metadata": {},
   "source": [
    "Para observar que viviendas podrían considerarse como valores atípicos se ha realizado una visualización mediante un histograma."
   ]
  },
  {
   "cell_type": "code",
   "execution_count": null,
   "metadata": {
    "scrolled": true
   },
   "outputs": [],
   "source": [
    "gre_histogram = spark_df.select(\"log_price\").rdd.flatMap(lambda x: x).histogram(10)\n",
    "pd.DataFrame(\n",
    "list(zip(*gre_histogram)),\n",
    "columns=[\"bin\", \"frequency\"]\n",
    ").set_index(\"bin\"\n",
    ").plot(kind=\"bar\");"
   ]
  },
  {
   "cell_type": "markdown",
   "metadata": {},
   "source": [
    "Se podría considerar que las casas que tienen un logaritmo del precio mayor que 6.8, que son los coincidentes con el ultimo fragmento."
   ]
  },
  {
   "cell_type": "markdown",
   "metadata": {},
   "source": [
    "**Ejercicio 2**"
   ]
  },
  {
   "cell_type": "code",
   "execution_count": 16,
   "metadata": {},
   "outputs": [
    {
     "data": {
      "text/plain": [
       "71265"
      ]
     },
     "execution_count": 16,
     "metadata": {},
     "output_type": "execute_result"
    }
   ],
   "source": [
    "spark_df[spark_df['Wireless Internet']==True].count()"
   ]
  },
  {
   "cell_type": "code",
   "execution_count": 17,
   "metadata": {},
   "outputs": [
    {
     "name": "stdout",
     "output_type": "stream",
     "text": [
      "+-------+-----+\n",
      "|   city|count|\n",
      "+-------+-----+\n",
      "|     LA|21351|\n",
      "|     DC| 5472|\n",
      "|Chicago| 3576|\n",
      "|     SF| 6214|\n",
      "| Boston| 3348|\n",
      "|    NYC|31304|\n",
      "+-------+-----+\n",
      "\n"
     ]
    }
   ],
   "source": [
    "spark_df[spark_df['Wireless Internet']==True].groupBy('city').count().show()"
   ]
  },
  {
   "cell_type": "markdown",
   "metadata": {},
   "source": [
    "**Ejercicio 3**"
   ]
  },
  {
   "cell_type": "code",
   "execution_count": 18,
   "metadata": {},
   "outputs": [
    {
     "name": "stdout",
     "output_type": "stream",
     "text": [
      "+-------+-----+\n",
      "|   city|count|\n",
      "+-------+-----+\n",
      "|     DC| 5688|\n",
      "|Chicago| 3719|\n",
      "|     SF| 6434|\n",
      "| Boston| 3468|\n",
      "+-------+-----+\n",
      "\n"
     ]
    }
   ],
   "source": [
    "spark_df[~spark_df['city'].isin('LA','NYC')].groupBy('city').count().show()"
   ]
  },
  {
   "cell_type": "code",
   "execution_count": null,
   "metadata": {},
   "outputs": [],
   "source": [
    "creditsSchema_test = StructType([StructField(\"id\", DoubleType(), True),\n",
    "                           StructField(\"property_type\", StringType(), True),\n",
    "                           StructField(\"room_type\", StringType(), True),\n",
    "                           StructField(\"amenities\", StringType(), True),\n",
    "                           StructField(\"accommodates\", IntegerType(), True),\n",
    "                           StructField(\"bathrooms\", FloatType(), True),\n",
    "                           StructField(\"bed_type\", StringType(), True),\n",
    "                           StructField(\"cancellation_policy\", StringType(), True),\n",
    "                           StructField(\"cleaning_fee\", BooleanType(), True),\n",
    "                           StructField(\"city\", StringType(), True),\n",
    "                           StructField(\"description\", StringType(), True),\n",
    "                           StructField(\"first_review\", DateType(), True),\n",
    "                           StructField(\"host_has_profile_pic\", StringType(), True),\n",
    "                           StructField(\"host_identity_verified\", StringType(), True),\n",
    "                           StructField(\"host_response_rate\", StringType(), True),\n",
    "                           StructField(\"host_since\", DateType(), True),\n",
    "                           StructField(\"instant_bookable\", BooleanType(), True),\n",
    "                           StructField(\"last_review\", DateType(), True),         \n",
    "                           StructField(\"latitude\", DoubleType(), True),         \n",
    "                           StructField(\"longitude\", DoubleType(), True),       \n",
    "                           StructField(\"name\", StringType(), True),\n",
    "                           StructField(\"neighbourhood\", StringType(), True),         \n",
    "                           StructField(\"number_of_reviews\", IntegerType(), True),      \n",
    "                           StructField(\"review_scores_rating\", DoubleType(), True),         \n",
    "                           StructField(\"thumbnail_url\", StringType(), True),                             \n",
    "                           StructField(\"zipcode\", IntegerType(), True),         \n",
    "                           StructField(\"bedrooms\", FloatType(), True),         \n",
    "                           StructField(\"beds\", FloatType(), True)\n",
    "                           ])"
   ]
  },
  {
   "cell_type": "code",
   "execution_count": null,
   "metadata": {},
   "outputs": [],
   "source": [
    "df_spark_test = (spark.read.option(\"header\", \"true\")\n",
    "#           .option(\"dateFormat\", \"yyyy-MM-dd\") // Default\n",
    "           .option(\"quote\", \"\\\"\")  # Tuning escape double quotes\n",
    "           .option(\"escape\", \"\\\"\") # Tuning escape double quotes\n",
    "           .csv(\"../data/test.csv\", schema=creditsSchema_test)\n",
    "          )"
   ]
  },
  {
   "cell_type": "code",
   "execution_count": null,
   "metadata": {},
   "outputs": [],
   "source": [
    "df_spark_test[~df_spark_test['city'].isin('LA','NYC')].groupBy('city').count().show()"
   ]
  },
  {
   "cell_type": "markdown",
   "metadata": {},
   "source": [
    "**Ejercicio 4**"
   ]
  },
  {
   "cell_type": "code",
   "execution_count": 19,
   "metadata": {},
   "outputs": [
    {
     "name": "stdout",
     "output_type": "stream",
     "text": [
      "+------+-----------+\n",
      "|  city|last_review|\n",
      "+------+-----------+\n",
      "|Boston| 2010-11-04|\n",
      "|Boston| 2013-06-02|\n",
      "|Boston| 2014-06-22|\n",
      "|Boston| 2014-07-02|\n",
      "|Boston| 2014-08-02|\n",
      "|Boston| 2014-08-09|\n",
      "|Boston| 2014-08-09|\n",
      "|Boston| 2014-08-11|\n",
      "|Boston| 2014-08-30|\n",
      "|Boston| 2014-08-31|\n",
      "+------+-----------+\n",
      "only showing top 10 rows\n",
      "\n"
     ]
    }
   ],
   "source": [
    "spark_df[spark_df['city']=='Boston'].sort(\"last_review\").select('city','last_review').show(10)"
   ]
  },
  {
   "cell_type": "code",
   "execution_count": 20,
   "metadata": {},
   "outputs": [],
   "source": [
    "my_window = Window.partitionBy().orderBy(\"last_review\")\n",
    "spark_df_diff = spark_df[spark_df['city']=='Boston'].withColumn(\"prev_date\", F.lag(spark_df.last_review).over(my_window)) \n",
    "spark_df_diff=spark_df_diff.withColumn(\"resta\", datediff(col(\"last_review\"),col(\"prev_date\")))"
   ]
  },
  {
   "cell_type": "code",
   "execution_count": 22,
   "metadata": {},
   "outputs": [
    {
     "name": "stdout",
     "output_type": "stream",
     "text": [
      "+------+-----------+----------+-----+\n",
      "|  city|last_review| prev_date|resta|\n",
      "+------+-----------+----------+-----+\n",
      "|Boston| 2010-11-04|      null| null|\n",
      "|Boston| 2013-06-02|2010-11-04|  941|\n",
      "|Boston| 2014-06-22|2013-06-02|  385|\n",
      "|Boston| 2014-07-02|2014-06-22|   10|\n",
      "|Boston| 2014-08-02|2014-07-02|   31|\n",
      "+------+-----------+----------+-----+\n",
      "only showing top 5 rows\n",
      "\n"
     ]
    }
   ],
   "source": [
    "spark_df_diff.select('city','last_review','prev_date','resta').show(5)"
   ]
  },
  {
   "cell_type": "code",
   "execution_count": null,
   "metadata": {},
   "outputs": [],
   "source": [
    "gre_histogram = spark_df.select(\"resta\").rdd.flatMap(lambda x: x).histogram(5)\n",
    "\n",
    "# Loading the Computed Histogram into a Pandas Dataframe for plotting\n",
    "pd.DataFrame(\n",
    "list(zip(*gre_histogram)),\n",
    "columns=[\"bin\", \"frequency\"]\n",
    ").set_index(\"bin\"\n",
    ").plot(kind=\"bar\");"
   ]
  },
  {
   "cell_type": "markdown",
   "metadata": {},
   "source": [
    "**Ejercicio 5**"
   ]
  },
  {
   "cell_type": "code",
   "execution_count": 23,
   "metadata": {},
   "outputs": [
    {
     "name": "stdout",
     "output_type": "stream",
     "text": [
      "+-------+------------------+\n",
      "|summary| number_of_reviews|\n",
      "+-------+------------------+\n",
      "|  count|               103|\n",
      "|   mean|1.3009708737864079|\n",
      "| stddev|0.6836314718760577|\n",
      "|    min|                 1|\n",
      "|    max|                 5|\n",
      "+-------+------------------+\n",
      "\n"
     ]
    }
   ],
   "source": [
    "spark_df[spark_df['review_scores_rating']<=30.0].select('number_of_reviews').describe().show()"
   ]
  },
  {
   "cell_type": "code",
   "execution_count": 25,
   "metadata": {},
   "outputs": [
    {
     "name": "stdout",
     "output_type": "stream",
     "text": [
      "+-------+------------------+--------------------+\n",
      "|summary| number_of_reviews|review_scores_rating|\n",
      "+-------+------------------+--------------------+\n",
      "|  count|               103|                 103|\n",
      "|   mean|1.3009708737864079|  20.524271844660195|\n",
      "| stddev|0.6836314718760577|  2.1458791342266483|\n",
      "|    min|                 1|                20.0|\n",
      "|    max|                 5|                30.0|\n",
      "+-------+------------------+--------------------+\n",
      "\n"
     ]
    }
   ],
   "source": [
    "spark_df[spark_df['review_scores_rating']<=30.0].select('number_of_reviews','review_scores_rating').describe().show()"
   ]
  },
  {
   "cell_type": "code",
   "execution_count": 26,
   "metadata": {},
   "outputs": [
    {
     "name": "stdout",
     "output_type": "stream",
     "text": [
      "+--------------------+-----------------+------------+-------------------+\n",
      "|review_scores_rating|number_of_reviews|cleaning_fee|cancellation_policy|\n",
      "+--------------------+-----------------+------------+-------------------+\n",
      "|                20.0|                1|       false|           flexible|\n",
      "|                20.0|                1|       false|           flexible|\n",
      "|                20.0|                2|        true|           flexible|\n",
      "|                20.0|                1|        true|             strict|\n",
      "|                20.0|                1|        true|           moderate|\n",
      "|                20.0|                1|        true|             strict|\n",
      "|                20.0|                1|        true|           flexible|\n",
      "|                20.0|                1|       false|             strict|\n",
      "|                20.0|                1|       false|           flexible|\n",
      "|                20.0|                1|        true|           flexible|\n",
      "|                20.0|                1|       false|           flexible|\n",
      "|                20.0|                1|       false|           flexible|\n",
      "|                20.0|                1|       false|             strict|\n",
      "|                20.0|                1|        true|           flexible|\n",
      "|                20.0|                1|       false|           flexible|\n",
      "|                20.0|                1|        true|             strict|\n",
      "|                20.0|                1|        true|             strict|\n",
      "|                20.0|                1|       false|             strict|\n",
      "|                20.0|                1|        true|             strict|\n",
      "|                20.0|                1|        true|           flexible|\n",
      "|                20.0|                1|        true|           flexible|\n",
      "|                20.0|                1|       false|             strict|\n",
      "|                20.0|                1|       false|           flexible|\n",
      "|                20.0|                2|        true|           flexible|\n",
      "|                20.0|                1|        true|           flexible|\n",
      "|                20.0|                1|        true|           moderate|\n",
      "|                27.0|                3|       false|             strict|\n",
      "|                20.0|                1|       false|           flexible|\n",
      "|                20.0|                1|       false|           moderate|\n",
      "|                20.0|                1|       false|           flexible|\n",
      "|                20.0|                1|        true|           moderate|\n",
      "|                20.0|                1|        true|             strict|\n",
      "|                20.0|                1|       false|             strict|\n",
      "|                20.0|                1|        true|             strict|\n",
      "|                20.0|                1|        true|             strict|\n",
      "|                20.0|                2|        true|           flexible|\n",
      "|                27.0|                3|        true|             strict|\n",
      "|                20.0|                1|        true|           flexible|\n",
      "|                20.0|                1|        true|           flexible|\n",
      "|                20.0|                1|       false|           flexible|\n",
      "|                30.0|                2|       false|           flexible|\n",
      "|                20.0|                2|        true|           flexible|\n",
      "|                20.0|                1|       false|           flexible|\n",
      "|                20.0|                1|        true|           flexible|\n",
      "|                20.0|                1|       false|           flexible|\n",
      "|                20.0|                2|       false|           moderate|\n",
      "|                20.0|                1|        true|             strict|\n",
      "|                20.0|                1|       false|           flexible|\n",
      "|                20.0|                1|        true|             strict|\n",
      "|                20.0|                1|       false|             strict|\n",
      "+--------------------+-----------------+------------+-------------------+\n",
      "only showing top 50 rows\n",
      "\n"
     ]
    }
   ],
   "source": [
    "spark_df[spark_df['review_scores_rating']<=30.0].select('review_scores_rating','number_of_reviews','cleaning_fee','cancellation_policy').show(50)"
   ]
  },
  {
   "cell_type": "code",
   "execution_count": null,
   "metadata": {},
   "outputs": [],
   "source": []
  }
 ],
 "metadata": {
  "kernelspec": {
   "display_name": "Python 3",
   "language": "python",
   "name": "python3"
  },
  "language_info": {
   "codemirror_mode": {
    "name": "ipython",
    "version": 3
   },
   "file_extension": ".py",
   "mimetype": "text/x-python",
   "name": "python",
   "nbconvert_exporter": "python",
   "pygments_lexer": "ipython3",
   "version": "3.7.9"
  }
 },
 "nbformat": 4,
 "nbformat_minor": 2
}
